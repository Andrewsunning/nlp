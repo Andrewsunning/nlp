{
 "cells": [
  {
   "cell_type": "code",
   "execution_count": 3,
   "metadata": {},
   "outputs": [],
   "source": [
    "import matplotlib.pyplot as plt\n",
    "%matplotlib inline\n",
    "import random"
   ]
  },
  {
   "cell_type": "markdown",
   "metadata": {},
   "source": [
    "# Data Driven\n",
    "* 输入数据变了，但是场景不变"
   ]
  },
  {
   "cell_type": "code",
   "execution_count": 45,
   "metadata": {},
   "outputs": [],
   "source": [
    "hello_rules = \"\"\"\n",
    "say_hello = names hello tail\n",
    "names = name names | name\n",
    "name = John | Mike | 老梁 | 老刘\n",
    "hello = 你好 | 您来啦 | 快请进\n",
    "tail = 呀 | 啦\n",
    "\"\"\""
   ]
  },
  {
   "cell_type": "code",
   "execution_count": 69,
   "metadata": {},
   "outputs": [
    {
     "data": {
      "text/plain": [
       "'John 老刘 John John 老刘 快请进 tail'"
      ]
     },
     "execution_count": 69,
     "metadata": {},
     "output_type": "execute_result"
    }
   ],
   "source": [
    "def generate(grammar_rules: dict, target: str):\n",
    "    if target in grammar_rules:\n",
    "        candidates = grammar_rules[target]\n",
    "        candidate = random.choice(candidates)\n",
    "        return ' '.join(generate(grammar_rules, target=c.strip()) for c in candidate.split())\n",
    "    else:\n",
    "        return target\n",
    "generate(rules, target='say_hello')"
   ]
  },
  {
   "cell_type": "code",
   "execution_count": 86,
   "metadata": {},
   "outputs": [
    {
     "data": {
      "text/plain": [
       "'Mike Mike 老刘 John 你好 啦'"
      ]
     },
     "execution_count": 86,
     "metadata": {},
     "output_type": "execute_result"
    }
   ],
   "source": [
    "def get_generation_by_gram(grammar_str: str, target, stmt_split='=', or_split='|'):\n",
    "    rules = dict()\n",
    "    for line in grammar_str.splitlines():\n",
    "        if not line: continue    # 跳过空行\n",
    "        stmt, expr = line.split(stmt_split)\n",
    "#         print(stmt, expr.split(or_split))\n",
    "        rules[stmt.strip()] = [x.strip() for x in expr.split(or_split)]\n",
    "    generated = generate(rules, target)\n",
    "    return generated\n",
    "get_generation_by_gram(hello_rules, target='say_hello')"
   ]
  },
  {
   "cell_type": "code",
   "execution_count": 87,
   "metadata": {},
   "outputs": [
    {
     "data": {
      "text/plain": [
       "'一个 好看的 蓝色的 篮球 坐在 这个 蓝色的 篮球'"
      ]
     },
     "execution_count": 87,
     "metadata": {},
     "output_type": "execute_result"
    }
   ],
   "source": [
    "simple_grammar = \"\"\"\n",
    "sentence => noun_phrase verb_phrase\n",
    "noun_phrase => Article Adj* noun\n",
    "Adj* => Adj | Adj Adj*\n",
    "verb_phrase => verb noun_phrase\n",
    "Article =>  一个 | 这个\n",
    "noun =>   女人 |  篮球 | 桌子 | 小猫\n",
    "verb => 看着   |  坐在 |  听着 | 看见\n",
    "Adj =>   蓝色的 |  好看的 | 小小的\"\"\"\n",
    "\n",
    "get_generation_by_gram(simple_grammar, target='sentence', stmt_split='=>')"
   ]
  },
  {
   "cell_type": "code",
   "execution_count": 91,
   "metadata": {
    "scrolled": false
   },
   "outputs": [
    {
     "name": "stdout",
     "output_type": "stream",
     "text": [
      "if ( d >= c 3 ) { 3 = 2 }\n",
      "if ( 1  c ) { a 2 2 = 1 }\n",
      "if ( 2 == 0 ) { 2 = a }\n",
      "if ( 3 1 < 3 0 c ) { if ( d 1 <= c 0 ) { c c c = 0 a } }\n",
      "if ( 2 < b a 1 0 ) { 1 c = 0 d }\n",
      "if ( b 2 <= 0 2 ) { if ( b == a 0 ) { if ( 2 <= b 2 b a 2 ) { b 0 a = a 0 1 0 3 2 a b } } }\n",
      "if ( d 1 c == a ) { 3 = d c b }\n",
      "if ( 3 a <= 1 ) { 2 = 3 a }\n",
      "if ( 1 2 == 0 b d ) { if ( a 2 d < 0 a ) { if ( 3 c b 2 3 1  0 a 2 c ) { 2 a = b c } } }\n",
      "if ( d  c ) { if ( d c  2 c 3 c c ) { if ( 2 < a ) { if ( a c  c ) { if ( 3 2 <= 3 ) { 1 = c } } } } }\n",
      "if ( 0 < b ) { if ( a c == 2 2 d 1 3 ) { if ( 3 == c c d c b ) { a a 0 d = 2 c } } }\n",
      "if ( 1 < 0 ) { if ( c 3  2 2 0 1 a ) { a = b 2 b 1 a 2 } }\n",
      "if ( 3 1 d  3 ) { if ( 2 2 1 b < 2 0 2 ) { if ( 2 a >= 1 1 ) { if ( c a 1 < 1 ) { d 0 = 2 } } } }\n",
      "if ( 2 <= c ) { if ( b == c b ) { if ( 3 1 0 <= 3 1 c ) { if ( 2 == 3 1 ) { if ( c a b <= 3 b ) { d = d } } } } }\n",
      "if ( 1 2 b d 1 a == a c ) { if ( 1 1 c  2 b ) { a a 3 = a a } }\n",
      "if ( a < 1 1 ) { b = 1 2 3 3 2 c }\n",
      "if ( 2 == 2 2 ) { if ( 2 < 3 b 0 ) { 3 3 2 = d 3 } }\n",
      "if ( b < a c ) { 1 = 3 }\n",
      "if ( 2 >= a ) { a 3 2 d c = 0 2 d 0 c }\n",
      "if ( 2 3 >= 3 ) { if ( 3 a  a c 0 ) { 1 b = 0 } }\n"
     ]
    }
   ],
   "source": [
    "simpel_programming = '''\n",
    "if_stmt => if ( cond ) { stmt }\n",
    "cond => var op var\n",
    "op => | == | < | >= | <= \n",
    "stmt => assign | if_stmt\n",
    "assign => var = var\n",
    "var =>  char var | char\n",
    "char => a|b|c|d|0|1|2|3'''\n",
    "for i in range(20):\n",
    "    print(get_generation_by_gram(simpel_programming, target='if_stmt', stmt_split='=>'))"
   ]
  },
  {
   "cell_type": "code",
   "execution_count": 12,
   "metadata": {},
   "outputs": [
    {
     "data": {
      "text/plain": [
       "' 老梁  快请进'"
      ]
     },
     "execution_count": 12,
     "metadata": {},
     "output_type": "execute_result"
    }
   ],
   "source": [
    "def name():\n",
    "    return random.choice(\"John | Mike | 老梁\".split('|'))\n",
    "\n",
    "def hello():\n",
    "    return random.choice(\"你好 | 您来啦 | 快请进\".split('|'))\n",
    "\n",
    "def say_hello():\n",
    "    return name() + ' ' + hello()\n",
    "\n",
    "say_hello()"
   ]
  },
  {
   "cell_type": "markdown",
   "metadata": {},
   "source": [
    "# Language Model\n",
    "* Input: Sentence (w1..wn)\n",
    "* Output: Pribability(0 - 1)\n",
    "* 2-Gram"
   ]
  },
  {
   "cell_type": "code",
   "execution_count": 6,
   "metadata": {},
   "outputs": [
    {
     "name": "stdout",
     "output_type": "stream",
     "text": [
      "<class 'str'>\n",
      "10612094\n"
     ]
    },
    {
     "data": {
      "text/plain": [
       "'此外自本周6月12日起除小米手机6等15款机型外其余机型已暂停更新发布含开发版体验版内测稳定版暂不受影响以确保工程师可以集中全部精力进行系统优化工作有人猜测这也是将精力主要用到MIUI9的研发之中MI'"
      ]
     },
     "execution_count": 6,
     "metadata": {},
     "output_type": "execute_result"
    }
   ],
   "source": [
    "corpus_path = \"./data/raw_data.txt\"    # 语料库地址\n",
    "FILE = open(corpus_path).read()\n",
    "print(type(FILE))\n",
    "print(len(FILE))\n",
    "FILE[:100]"
   ]
  },
  {
   "cell_type": "code",
   "execution_count": 7,
   "metadata": {},
   "outputs": [],
   "source": [
    "import jieba"
   ]
  },
  {
   "cell_type": "code",
   "execution_count": 8,
   "metadata": {},
   "outputs": [
    {
     "name": "stderr",
     "output_type": "stream",
     "text": [
      "Building prefix dict from the default dictionary ...\n",
      "Dumping model to file cache /var/folders/z9/yzvzfk354vgdpmx2y24y82m00000gn/T/jieba.cache\n",
      "Loading model cost 0.929 seconds.\n",
      "Prefix dict has been built succesfully.\n"
     ]
    },
    {
     "name": "stdout",
     "output_type": "stream",
     "text": [
      "532454\n"
     ]
    }
   ],
   "source": [
    "max_length = 1000000\n",
    "sub_file = FILE[:max_length]\n",
    "\n",
    "def cut(string):\n",
    "    return list(jieba.cut(string))\n",
    "TOKENS = cut(sub_file)\n",
    "print(len(TOKENS))"
   ]
  },
  {
   "cell_type": "code",
   "execution_count": 9,
   "metadata": {},
   "outputs": [],
   "source": [
    "from collections import Counter"
   ]
  },
  {
   "cell_type": "code",
   "execution_count": 10,
   "metadata": {
    "scrolled": false
   },
   "outputs": [
    {
     "data": {
      "text/plain": [
       "[('的', 28764),\n",
       " ('在', 7563),\n",
       " ('了', 6529),\n",
       " ('是', 4883),\n",
       " ('和', 4245),\n",
       " ('也', 2531),\n",
       " ('月', 2433),\n",
       " ('有', 2374),\n",
       " ('将', 2114),\n",
       " ('他', 1960),\n",
       " ('年', 1959),\n",
       " ('对', 1795),\n",
       " ('都', 1720),\n",
       " ('中', 1699),\n",
       " ('为', 1686),\n",
       " ('日', 1674),\n",
       " ('等', 1655),\n",
       " ('与', 1601),\n",
       " ('中国', 1597),\n",
       " ('上', 1583)]"
      ]
     },
     "execution_count": 10,
     "metadata": {},
     "output_type": "execute_result"
    }
   ],
   "source": [
    "words_count = Counter(TOKENS)\n",
    "words_count.most_common(20)"
   ]
  },
  {
   "cell_type": "code",
   "execution_count": 13,
   "metadata": {},
   "outputs": [
    {
     "data": {
      "text/plain": [
       "[28764, 7563, 6529, 4883, 4245, 2531, 2433, 2374, 2114, 1960]"
      ]
     },
     "execution_count": 13,
     "metadata": {},
     "output_type": "execute_result"
    }
   ],
   "source": [
    "words_with_freq = [f for w,f in words_count.most_common()]\n",
    "words_with_freq[:10]"
   ]
  },
  {
   "cell_type": "code",
   "execution_count": 14,
   "metadata": {},
   "outputs": [
    {
     "data": {
      "text/plain": [
       "[<matplotlib.lines.Line2D at 0x1185750b8>]"
      ]
     },
     "execution_count": 14,
     "metadata": {},
     "output_type": "execute_result"
    },
    {
     "data": {
      "image/png": "[encoded data removed]",
      "text/plain": [
       "<Figure size 432x288 with 1 Axes>"
      ]
     },
     "metadata": {},
     "output_type": "display_data"
    }
   ],
   "source": [
    "# 词的词频分布\n",
    "plt.plot(words_with_freq)"
   ]
  },
  {
   "cell_type": "code",
   "execution_count": 15,
   "metadata": {},
   "outputs": [],
   "source": [
    "import numpy as np"
   ]
  },
  {
   "cell_type": "code",
   "execution_count": 16,
   "metadata": {},
   "outputs": [
    {
     "data": {
      "text/plain": [
       "[<matplotlib.lines.Line2D at 0x118aec630>]"
      ]
     },
     "execution_count": 16,
     "metadata": {},
     "output_type": "execute_result"
    },
    {
     "data": {
      "image/png": "[encoded data removed]",
      "text/plain": [
       "<Figure size 432x288 with 1 Axes>"
      ]
     },
     "metadata": {},
     "output_type": "display_data"
    }
   ],
   "source": [
    "# 取log\n",
    "plt.plot(np.log(words_with_freq))"
   ]
  },
  {
   "cell_type": "code",
   "execution_count": 29,
   "metadata": {},
   "outputs": [
    {
     "data": {
      "text/plain": [
       "[('6月', 1173),\n",
       " ('的是', 362),\n",
       " ('也是', 298),\n",
       " ('2016年', 296),\n",
       " ('都是', 288),\n",
       " ('自己的', 283),\n",
       " ('2017年', 228),\n",
       " ('他的', 228),\n",
       " ('更多', 226),\n",
       " ('月23', 218)]"
      ]
     },
     "execution_count": 29,
     "metadata": {},
     "output_type": "execute_result"
    }
   ],
   "source": [
    "_2_gram_words = [TOKENS[i]+TOKENS[i+1] for i in range(len(TOKENS)-1)]\n",
    "# _2_gram_words[:10]\n",
    "\n",
    "_2_gram_word_counts = Counter(_2_gram_words)\n",
    "_2_gram_word_counts.most_common(10)"
   ]
  },
  {
   "cell_type": "code",
   "execution_count": null,
   "metadata": {},
   "outputs": [],
   "source": []
  },
  {
   "cell_type": "code",
   "execution_count": null,
   "metadata": {},
   "outputs": [],
   "source": [
    "# 定义word在wc的出现频数的函数\n",
    "def get_gram__word_count(word: str, wc: dict):\n",
    "    if word in wc: return wc[word]\n",
    "    else:\n",
    "        return wc.most_common()[-1][-1]\n",
    "\n",
    "def two_gram_model(sentence):\n",
    "    tokens = cut(sentence)\n",
    "    probability = 1\n",
    "    \n",
    "    for i in range(len(tokens)-1):\n",
    "        word = tokens[i]\n",
    "        next_word = tokens[i+1]\n",
    "        \n",
    "        _two_gram_count = get_gram__word_count(word+next_word,_2_gram_word_counts)\n",
    "        _one_gram_count = get_gram__word_count(next_word, words_count)\n",
    "        pro = _two_gram_count / _one_gram_count\n",
    "        probability *= pro\n",
    "    return probability\n",
    "\n",
    "two_gram_model('此外自本周6月12日起除小米手机6等15款机型')"
   ]
  },
  {
   "cell_type": "code",
   "execution_count": 27,
   "metadata": {},
   "outputs": [
    {
     "data": {
      "text/plain": [
       "1.7475796022508822e-05"
      ]
     },
     "execution_count": 27,
     "metadata": {},
     "output_type": "execute_result"
    }
   ],
   "source": [
    "two_gram_model('这个花特别好看')"
   ]
  },
  {
   "cell_type": "code",
   "execution_count": 28,
   "metadata": {},
   "outputs": [
    {
     "data": {
      "text/plain": [
       "4.467496727558647e-07"
      ]
     },
     "execution_count": 28,
     "metadata": {},
     "output_type": "execute_result"
    }
   ],
   "source": [
    "two_gram_model('花这特别好看')"
   ]
  },
  {
   "cell_type": "code",
   "execution_count": null,
   "metadata": {},
   "outputs": [],
   "source": []
  }
 ],
 "metadata": {
  "kernelspec": {
   "display_name": "Python 3",
   "language": "python",
   "name": "python3"
  },
  "language_info": {
   "codemirror_mode": {
    "name": "ipython",
    "version": 3
   },
   "file_extension": ".py",
   "mimetype": "text/x-python",
   "name": "python",
   "nbconvert_exporter": "python",
   "pygments_lexer": "ipython3",
   "version": "3.6.5"
  }
 },
 "nbformat": 4,
 "nbformat_minor": 2
}
