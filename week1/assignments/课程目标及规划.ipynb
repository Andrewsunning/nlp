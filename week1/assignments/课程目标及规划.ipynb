{
 "cells": [
  {
   "cell_type": "markdown",
   "metadata": {},
   "source": [
    "#### 2. 请回答以下问题\n",
    "\n",
    "回答以下问题，并将问题发送至 minchuian.gao@gmail.com 中：\n",
    "```\n",
    "    2.1. what do you want to acquire in this course？\n",
    "    2.2. what problems do you want to solve？\n",
    "    2.3. what’s the advantages you have to finish you goal?\n",
    "    2.4. what’s the disadvantages you need to overcome to finish you goal?\n",
    "    2.5. How will you plan to study in this course period?\n",
    "```"
   ]
  },
  {
   "cell_type": "markdown",
   "metadata": {},
   "source": [
    "** answer from Li Yan**\n",
    "* 2.1 what do you want to acquire in this course？  \n",
    "ans:  \n",
    "大目标：进入BAT大厂从事nlp相关工作（目前已有一定机器学习和深度学习基础，做过几个表格类比赛，获得过两个top10）  \n",
    "小目标：想要提高自己的nlp实践能力，参加举办的nlp相关比赛，取得好的名次；同时希望得到老师相关就业指导，完成几个好的nlp项目，完善自己的校招求职简历\n",
    "\n",
    "* 2.2. what problems do you want to solve？  \n",
    "ans：  \n",
    "深入理解nlp领域，提高自己的实战能力,同时丰富自己的简历内容\n",
    "\n",
    "* 2.3. what’s the advantages you have to finish you goal?  \n",
    "ans:  \n",
    "(1)985本硕(目前研二)，信息管理专业  \n",
    "(2)已有一定机器学习和深度学习基础，做过几个表格类比赛，获得过两个top10  \n",
    "(3)熟悉python编程和基本的数据机构(线性表、队列、栈、二叉树等)  \n",
    "(4)初步掌握pytorch框架  \n",
    "(5)本科学过java和sql，有一定基础  \n",
    "\n",
    "* 2.4. what’s the disadvantages you need to overcome to finish you goal?  \n",
    "ans：  \n",
    "(1)非科班出身，动手能力相对较弱   \n",
    "(2)nlp的基础较弱  \n",
    "* 2.5. How will you plan to study in this course period?  \n",
    "ans：  \n",
    "(1)跟紧课程节凑，每次课课前预习，课后复习  \n",
    "(2)保质保量完成布置的课程作业  \n",
    "(3)继续数据结构与算法的学习，同时阅读花书等深度学习相关资料，加深深度学习的理解  "
   ]
  }
 ],
 "metadata": {
  "kernelspec": {
   "display_name": "Python 3",
   "language": "python",
   "name": "python3"
  },
  "language_info": {
   "codemirror_mode": {
    "name": "ipython",
    "version": 3
   },
   "file_extension": ".py",
   "mimetype": "text/x-python",
   "name": "python",
   "nbconvert_exporter": "python",
   "pygments_lexer": "ipython3",
   "version": "3.6.5"
  }
 },
 "nbformat": 4,
 "nbformat_minor": 2
}
