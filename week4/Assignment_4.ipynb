{
 "cells": [
  {
   "cell_type": "markdown",
   "metadata": {},
   "source": [
    "# Assignment 4"
   ]
  },
  {
   "cell_type": "markdown",
   "metadata": {},
   "source": [
    "### 1. 复习上课内容以及复现课程代码"
   ]
  },
  {
   "cell_type": "markdown",
   "metadata": {},
   "source": [
    "在本部分，你需要复习上课内容和课程代码后，自己复现课程代码。"
   ]
  },
  {
   "cell_type": "code",
   "execution_count": 1,
   "metadata": {},
   "outputs": [],
   "source": [
    "import numpy as np"
   ]
  },
  {
   "cell_type": "code",
   "execution_count": 27,
   "metadata": {},
   "outputs": [],
   "source": [
    "class Node(object): \n",
    "    def __init__(self, inputs=[]):\n",
    "        # 初始化节点的属性：inputs,outputs,value,gradients\n",
    "        self.inputs = inputs    # 节点列表\n",
    "        self.outputs = []\n",
    "        \n",
    "        for n in self.inputs:\n",
    "            n.outputs.append(self)    # 将inputs中的节点n的output节点设置为节点本身self\n",
    "            \n",
    "        self.value = None\n",
    "        self.gradients = {}    # key是当前节点self的输入节点，value是当前节点对输入节点的偏导\n",
    "    \n",
    "    def forward(self):\n",
    "        raise NotImplemented\n",
    "    \n",
    "    def backward(self):\n",
    "        raise NotImplemented\n",
    "    \n",
    "class Input(Node):\n",
    "    def __init__(self):    # 输入节点没有入度节点，所以不需要传入inputs\n",
    "        Node.__init__(self)\n",
    "    \n",
    "    def forward(self,value=None):\n",
    "        if value is not None:\n",
    "            self.value = value\n",
    "    \n",
    "    def backward(self):\n",
    "        self.gradients = {self:0}\n",
    "        for n in self.outputs:    # n是对于当前节点的输出节点\n",
    "            grad_cost = n.gradients[self]    # 输出节点n对当前节点self的梯度\n",
    "            self.gradients[self] = grad_cost*1    # 输入节点self的梯度=(输出节点n对当前节点self的梯度)*(self对self的输入的梯度，也就是1)\n",
    "    \n",
    "class Add(Node):\n",
    "    def __init__(self,*nodes):\n",
    "        Node.__init__(self, nodes)    # \n",
    "    \n",
    "    def forward(self):\n",
    "        self.value = sum(map(lambda n:n.value, self.inputs))    # 对当前节点的input节点的value求和\n",
    "    \n",
    "#     def backward(self):\n",
    "#         pass\n",
    "\n",
    "class Linear(Node):\n",
    "    def __init__(self, nodes, weights, bias):\n",
    "        Node.__init__(self, [nodes,weights,bias])\n",
    "    \n",
    "    def forward(self):\n",
    "        inputs = self.inputs[0].value    # self.inputs[0]是什么类型？？？\n",
    "        weights = self.inputs[1].value\n",
    "        bias = self.inputs[2].value\n",
    "        self.value = np.dot(inputs,weights)+bias\n",
    "    \n",
    "    def backward(self):\n",
    "        self.gradients={n:np.zeros_like(n.value) for n in self.inputs}\n",
    "        \n",
    "        for n in self.outputs:\n",
    "            grad_cost = n.gradients[self]\n",
    "            \n",
    "            self.gradients[self.inputs[0]] = np.dot(grad_cost,self.inputs[1].value.T)\n",
    "            self.gradients[self.inputs[1]] = np.dot(self.inputs[0].value.T, grad_cost)\n",
    "            self.gradients[self.inputs[2]] = np.sum(grad_cost, axis=0, keepdims=False)    # ???\n",
    "    \n",
    "class Sigmoid(Node):\n",
    "    def __init__(self, node):\n",
    "        Node.__init__(self, [node])\n",
    "    \n",
    "    def  _sigmoid(self, x):\n",
    "        return 1./(1+np.exp(-1*x))\n",
    "    \n",
    "    def forward(self):\n",
    "        self.x = self.inputs[0].value\n",
    "        self.value = self._sigmoid(self.x)\n",
    "    \n",
    "    def backward(self):\n",
    "        self.partial = self._sigmoid(self.x) * (1-self._sigmoid(self.x))\n",
    "        \n",
    "        self.gradients = {n: np.zeros_like(n.value) for n in self.inputs}    # 一个集合列表\n",
    "        \n",
    "        for n in self.outputs:\n",
    "            grad_cost = n.gradients[self]\n",
    "            self.gradients[self.inputs[0]] = grad_cost*self.partial    # *的作用？？？\n",
    "        \n",
    "    \n",
    "class MSE(Node):\n",
    "    def __init__(self, y ,a):\n",
    "        Node.__init__(self, [y, a])\n",
    "    \n",
    "    def forward(self):\n",
    "        y = self.inputs[0].value.reshape(-1,1)\n",
    "        a = self.inputs[1].value.reshape(-1,1)\n",
    "        assert(y.shape==a.shape)\n",
    "        \n",
    "        self.m = self.inputs[0].value.shape[0]\n",
    "        self.diff = y-a\n",
    "        \n",
    "        self.value = np.mean(self.diff**2)\n",
    "    \n",
    "    def backward(self):\n",
    "        self.gradients[self.inputs[0]] = (2/self.m)* self.diff\n",
    "        self.gradients[self.inputs[1]] = (-2/self.m) * self.diff\n",
    "    \n",
    "def forward_and_backward(outputnode, graph:list):\n",
    "    for n in graph:\n",
    "        n.forward()\n",
    "    \n",
    "    for n in graph[::-1]:\n",
    "        n.backward()\n",
    "\n",
    "def topological_sort(feed_dict):\n",
    "    \"\"\"\n",
    "    Sort generic nodes in topological order using Kahn's Algorithm.\n",
    "    `feed_dict`: A dictionary where the key is a `Input` node and the value is the respective value feed to that node.\n",
    "    Returns a list of sorted nodes.\n",
    "    \"\"\"\n",
    "\n",
    "    input_nodes = [n for n in feed_dict.keys()]\n",
    "\n",
    "    G = {}\n",
    "    nodes = [n for n in input_nodes]\n",
    "    while len(nodes) > 0:\n",
    "        n = nodes.pop(0)\n",
    "        if n not in G:\n",
    "            G[n] = {'in': set(), 'out': set()}\n",
    "        for m in n.outputs:\n",
    "            if m not in G:\n",
    "                G[m] = {'in': set(), 'out': set()}\n",
    "            G[n]['out'].add(m)\n",
    "            G[m]['in'].add(n)\n",
    "            nodes.append(m)\n",
    "\n",
    "    L = []\n",
    "    S = set(input_nodes)\n",
    "    while len(S) > 0:\n",
    "        n = S.pop()\n",
    "\n",
    "        if isinstance(n, Input):\n",
    "            n.value = feed_dict[n]\n",
    "            ## if n is Input Node, set n'value as \n",
    "            ## feed_dict[n]\n",
    "            ## else, n's value is caculate as its\n",
    "            ## inbounds\n",
    "\n",
    "        L.append(n)\n",
    "        for m in n.outputs:\n",
    "            G[n]['out'].remove(m)\n",
    "            G[m]['in'].remove(n)\n",
    "            # if no other incoming edges add to S\n",
    "            if len(G[m]['in']) == 0:\n",
    "                S.add(m)\n",
    "    return L\n",
    "\n",
    "\n",
    "def sgd_update(trainables, learning_rate=1e-2):\n",
    "    for t in trainables:\n",
    "        t.value+=-1*learning_rate*t.gradients[t]\n",
    "    "
   ]
  },
  {
   "cell_type": "code",
   "execution_count": 28,
   "metadata": {},
   "outputs": [],
   "source": [
    "from sklearn.datasets import load_boston"
   ]
  },
  {
   "cell_type": "code",
   "execution_count": 29,
   "metadata": {},
   "outputs": [],
   "source": [
    "import numpy as np\n",
    "from sklearn.utils import shuffle,resample"
   ]
  },
  {
   "cell_type": "code",
   "execution_count": 32,
   "metadata": {
    "scrolled": true
   },
   "outputs": [
    {
     "name": "stdout",
     "output_type": "stream",
     "text": [
      "Epoch: 100, Loss: 7.208\n",
      "Epoch: 200, Loss: 6.039\n",
      "Epoch: 300, Loss: 5.855\n",
      "Epoch: 400, Loss: 4.460\n",
      "Epoch: 500, Loss: 3.763\n",
      "Epoch: 600, Loss: 4.164\n",
      "Epoch: 700, Loss: 3.916\n",
      "Epoch: 800, Loss: 4.767\n",
      "Epoch: 900, Loss: 4.206\n",
      "Epoch: 1000, Loss: 3.553\n",
      "Epoch: 1100, Loss: 4.269\n",
      "Epoch: 1200, Loss: 3.673\n",
      "Epoch: 1300, Loss: 3.929\n",
      "Epoch: 1400, Loss: 3.565\n",
      "Epoch: 1500, Loss: 3.301\n",
      "Epoch: 1600, Loss: 3.747\n",
      "Epoch: 1700, Loss: 2.957\n",
      "Epoch: 1800, Loss: 3.584\n",
      "Epoch: 1900, Loss: 3.280\n",
      "Epoch: 2000, Loss: 3.247\n",
      "Epoch: 2100, Loss: 3.223\n",
      "Epoch: 2200, Loss: 3.530\n",
      "Epoch: 2300, Loss: 3.755\n",
      "Epoch: 2400, Loss: 3.106\n",
      "Epoch: 2500, Loss: 3.483\n",
      "Epoch: 2600, Loss: 3.660\n",
      "Epoch: 2700, Loss: 3.212\n",
      "Epoch: 2800, Loss: 3.105\n",
      "Epoch: 2900, Loss: 2.731\n",
      "Epoch: 3000, Loss: 3.420\n",
      "Epoch: 3100, Loss: 3.774\n",
      "Epoch: 3200, Loss: 3.226\n",
      "Epoch: 3300, Loss: 3.470\n",
      "Epoch: 3400, Loss: 3.338\n",
      "Epoch: 3500, Loss: 3.312\n",
      "Epoch: 3600, Loss: 3.193\n",
      "Epoch: 3700, Loss: 2.990\n",
      "Epoch: 3800, Loss: 3.098\n",
      "Epoch: 3900, Loss: 3.192\n",
      "Epoch: 4000, Loss: 2.837\n",
      "Epoch: 4100, Loss: 3.596\n",
      "Epoch: 4200, Loss: 3.120\n",
      "Epoch: 4300, Loss: 3.410\n",
      "Epoch: 4400, Loss: 2.669\n",
      "Epoch: 4500, Loss: 3.171\n",
      "Epoch: 4600, Loss: 3.366\n",
      "Epoch: 4700, Loss: 2.905\n",
      "Epoch: 4800, Loss: 4.039\n",
      "Epoch: 4900, Loss: 2.912\n",
      "Epoch: 5000, Loss: 3.441\n"
     ]
    }
   ],
   "source": [
    "data = load_boston()\n",
    "losses = []\n",
    "X_ = data[\"data\"]\n",
    "y_ = data[\"target\"]\n",
    "\n",
    "X_ = (X_-np.mean(X_, axis=0))/np.std(X_,axis=0)\n",
    "\n",
    "n_features = X_.shape[1]\n",
    "n_hidden = 10\n",
    "\n",
    "# 定义神经网络结构\n",
    "W1_ = np.random.randn(n_features, n_hidden)    # W1_的转置的shape(n_hidden,n_features)*X_的shape(n_features*1)==n_hidden*1\n",
    "b1_ = np.zeros(n_hidden)\n",
    "W2_ = np.random.randn(n_hidden,1)\n",
    "b2_ = np.zeros(1)\n",
    "\n",
    "X, y = Input(), Input()\n",
    "W1, b1 = Input(), Input()\n",
    "W2, b2 = Input(), Input()\n",
    "\n",
    "l1 = Linear(X, W1,b1)\n",
    "s1 = Sigmoid(l1)\n",
    "l2 = Linear(s1,W2,b2)\n",
    "cost = MSE(y,l2)\n",
    "\n",
    "feed_dict = {\n",
    "    X:X_,\n",
    "    y:y_,\n",
    "    W1:W1_,\n",
    "    b1:b1_,\n",
    "    W2:W2_,\n",
    "    b2:b2_\n",
    "}\n",
    "\n",
    "epochs = 5000\n",
    "m = X_.shape[0]    # 总样本数\n",
    "batch_size = 16\n",
    "steps_per_epoch = m//batch_size    # 每个batch_size的样本数\n",
    "\n",
    "graph = topological_sort(feed_dict)\n",
    "trainables = [W1,b1,W2,b2]    # 需要训练更新的参数\n",
    "\n",
    "for i in range(1,epochs+1):\n",
    "    loss = 0\n",
    "    for j in range(steps_per_epoch):\n",
    "        X_batch, y_batch = resample(X_, y_, n_samples=batch_size)    # 随机选择batch_size个样本\n",
    "        \n",
    "        X.value = X_batch\n",
    "        y.value = y_batch\n",
    "        \n",
    "        _ = None\n",
    "        forward_and_backward(_, graph)    # _表示outputnode\n",
    "        \n",
    "        rate = 1e-2\n",
    "        sgd_update(trainables, rate)\n",
    "        \n",
    "        loss+=graph[-1].value\n",
    "    if i%100==0:\n",
    "        print(\"Epoch: {}, Loss: {:.3f}\".format(i, loss/steps_per_epoch))\n",
    "        losses.append(loss)"
   ]
  },
  {
   "cell_type": "code",
   "execution_count": 34,
   "metadata": {},
   "outputs": [],
   "source": [
    "import matplotlib.pyplot as plt"
   ]
  },
  {
   "cell_type": "code",
   "execution_count": 36,
   "metadata": {},
   "outputs": [
    {
     "data": {
      "text/plain": [
       "[<matplotlib.lines.Line2D at 0x8e23908>]"
      ]
     },
     "execution_count": 36,
     "metadata": {},
     "output_type": "execute_result"
    },
    {
     "data": {
      "image/png": "[encoded data removed]",
      "text/plain": [
       "<Figure size 432x288 with 1 Axes>"
      ]
     },
     "metadata": {},
     "output_type": "display_data"
    }
   ],
   "source": [
    "plt.plot(range(len(losses)), losses)"
   ]
  },
  {
   "cell_type": "markdown",
   "metadata": {},
   "source": [
    "### 2. 回答一下理论题目"
   ]
  },
  {
   "cell_type": "markdown",
   "metadata": {},
   "source": [
    "#### 1. What does a neuron compute?"
   ]
  },
  {
   "cell_type": "markdown",
   "metadata": {},
   "source": [
    "Ans：  \n",
    "一个cell所做的运算的本质就是对前一层的输入进行矩阵运算，然后再输入给一个激活函数得到输出值"
   ]
  },
  {
   "cell_type": "markdown",
   "metadata": {},
   "source": [
    "####  2. Why we use non-linear activation funcitons in neural networks?"
   ]
  },
  {
   "cell_type": "markdown",
   "metadata": {},
   "source": [
    "Ans:  \n",
    "之所以使用非线性激活函数，是因为如果不使用的话，不管多少层的神经网络的运算都等价于一层的神经网络运算"
   ]
  },
  {
   "cell_type": "markdown",
   "metadata": {},
   "source": [
    "#### 3. What is the 'Logistic Loss' ?"
   ]
  },
  {
   "cell_type": "markdown",
   "metadata": {},
   "source": [
    "Ans：  \n",
    "逻辑回归损失是在利用极大似然估计和梯度下降法求解待求参数时的损失函数，其可以看做是交叉熵损失在二分类情况下的特殊情况"
   ]
  },
  {
   "cell_type": "markdown",
   "metadata": {},
   "source": [
    "#### 4. Assume that you are building a binary classifier for detecting if an image containing cats, which activation functions would you recommen using for the output layer ?\n",
    "\n",
    "A. ReLU    \n",
    "B. Leaky ReLU    \n",
    "C. sigmoid    \n",
    "D. tanh  \n",
    "Ans:  \n",
    "二分类问题，选择C，转化为某一类的概率"
   ]
  },
  {
   "cell_type": "markdown",
   "metadata": {},
   "source": [
    "#### 5. Why we don't use zero initialization for all parameters ?"
   ]
  },
  {
   "cell_type": "markdown",
   "metadata": {},
   "source": [
    "Ans：  \n",
    "如果参数矩阵w的元素值全为0，那么同一层的w更新后的值完全相同，该层的所有神经元其实和一个神经元是等价的了"
   ]
  },
  {
   "cell_type": "markdown",
   "metadata": {},
   "source": [
    "#### 6. Can you implement the softmax function using python ? "
   ]
  },
  {
   "cell_type": "markdown",
   "metadata": {},
   "source": [
    "Ans：  \n",
    "我觉得我能，就是时间太赶了，没来得及完成Challenge部分。"
   ]
  },
  {
   "cell_type": "markdown",
   "metadata": {},
   "source": [
    "### 3.实践题"
   ]
  },
  {
   "cell_type": "markdown",
   "metadata": {},
   "source": [
    "#### In this practical part, you will build a simple digits recognizer to check if the digit in the image is larger than 5. This assignmnet will guide you step by step to finish your first small project in this course ."
   ]
  },
  {
   "cell_type": "markdown",
   "metadata": {},
   "source": [
    "#### 1 - Packages  \n",
    "sklearn is a famous package for machine learning.   \n",
    "matplotlib is a common package for vasualization."
   ]
  },
  {
   "cell_type": "code",
   "execution_count": 37,
   "metadata": {},
   "outputs": [],
   "source": [
    "from sklearn import datasets\n",
    "import matplotlib.pyplot as plt\n",
    "from sklearn.model_selection import train_test_split"
   ]
  },
  {
   "cell_type": "markdown",
   "metadata": {},
   "source": [
    "#### 2 - Overvie of the dataset  \n",
    "    - a training set has m_train images labeled as 0 if the digit < 5 or 1 if the digit >= 5\n",
    "    - a test set contains m_test images labels as if the digit < 5 or 1 if the digit >= 5\n",
    "    - eah image if of shape (num_px, num_px ). Thus, each image is square(height=num_px and  width = num_px)"
   ]
  },
  {
   "cell_type": "code",
   "execution_count": 38,
   "metadata": {},
   "outputs": [],
   "source": [
    "# Loading the data \n",
    "digits = datasets.load_digits()"
   ]
  },
  {
   "cell_type": "code",
   "execution_count": 39,
   "metadata": {},
   "outputs": [
    {
     "data": {
      "image/png": "[encoded data removed]",
      "text/plain": [
       "<Figure size 432x288 with 10 Axes>"
      ]
     },
     "metadata": {},
     "output_type": "display_data"
    }
   ],
   "source": [
    "# Vilizating the data\n",
    "for i in range(1,11):\n",
    "    plt.subplot(2,5,i)\n",
    "    plt.imshow(digits.data[i-1].reshape([8,8]),cmap=plt.cm.gray_r)\n",
    "    plt.text(3,10,str(digits.target[i-1]))\n",
    "    plt.xticks([])\n",
    "    plt.yticks([])\n",
    "plt.show()"
   ]
  },
  {
   "cell_type": "code",
   "execution_count": 40,
   "metadata": {},
   "outputs": [],
   "source": [
    "# Split the data into training set and test set \n",
    "X_train, X_test, y_train, y_test = train_test_split(digits.data, digits.target, test_size=0.25)"
   ]
  },
  {
   "cell_type": "code",
   "execution_count": 41,
   "metadata": {},
   "outputs": [],
   "source": [
    "# reformulate the label. \n",
    "# If the digit is smaller than 5, the label is 0.\n",
    "# If the digit is larger than 5, the label is 1.\n",
    "\n",
    "y_train[y_train < 5 ] = 0\n",
    "y_train[y_train >= 5] = 1\n",
    "y_test[y_test < 5] = 0\n",
    "y_test[y_test >= 5] = 1"
   ]
  },
  {
   "cell_type": "code",
   "execution_count": 42,
   "metadata": {},
   "outputs": [
    {
     "name": "stdout",
     "output_type": "stream",
     "text": [
      "(1347, 64)\n",
      "(450, 64)\n",
      "(1347,)\n",
      "(450,)\n"
     ]
    }
   ],
   "source": [
    "print(X_train.shape)\n",
    "print(X_test.shape)\n",
    "print(y_train.shape)\n",
    "print(y_test.shape)"
   ]
  },
  {
   "cell_type": "markdown",
   "metadata": {},
   "source": [
    "#### 3- Architecture of the neural network"
   ]
  },
  {
   "cell_type": "markdown",
   "metadata": {},
   "source": [
    "##### Mathematical expression of the algorithm:"
   ]
  },
  {
   "cell_type": "markdown",
   "metadata": {},
   "source": [
    "For one example $x^{(i)}$:   \n",
    " $$ z^{(i)} = w^T * x^{(i)} +b $$   \n",
    " $$ y^{(i)} = a^{(i)} = sigmoid(z^{(i)})$$   \n",
    " $$L(a^{(i)},y^{(i)}) = -y^{(i)} log(a^{(i)})-(1-y^{(i)})log(1-a^{(i)})$$"
   ]
  },
  {
   "cell_type": "markdown",
   "metadata": {},
   "source": [
    "The total cost over all training examples:\n",
    "$$ J = \\frac{1}{m}\\sum_{i=1}^{m}L(a^{(i)},y^{(i)}) $$"
   ]
  },
  {
   "cell_type": "markdown",
   "metadata": {},
   "source": [
    "#### 4 - Building the algorithm"
   ]
  },
  {
   "cell_type": "markdown",
   "metadata": {},
   "source": [
    "##### 4.1- Activation function    \n",
    "###### Exercise:\n",
    "Finish the sigmoid funciton "
   ]
  },
  {
   "cell_type": "code",
   "execution_count": 43,
   "metadata": {},
   "outputs": [],
   "source": [
    "import numpy as np"
   ]
  },
  {
   "cell_type": "code",
   "execution_count": 44,
   "metadata": {},
   "outputs": [],
   "source": [
    "def sigmoid(z):\n",
    "    '''\n",
    "    Compute the sigmoid of z\n",
    "    Arguments: z -- a scalar or numpy array of any size.\n",
    "    \n",
    "    Return:\n",
    "    s -- sigmoid(z)\n",
    "    '''\n",
    "    s = 1./(1+np.exp(-1*z))\n",
    "    \n",
    "    return s"
   ]
  },
  {
   "cell_type": "code",
   "execution_count": 45,
   "metadata": {},
   "outputs": [
    {
     "name": "stdout",
     "output_type": "stream",
     "text": [
      "sigmoid([0,2]) = [0.5        0.88079708]\n"
     ]
    }
   ],
   "source": [
    "# Test your code \n",
    "# The result should be [0.5 0.88079708]\n",
    "print(\"sigmoid([0,2]) = \" + str(sigmoid(np.array([0,2]))))"
   ]
  },
  {
   "cell_type": "markdown",
   "metadata": {},
   "source": [
    "##### 4.1-Initializaing parameters\n",
    "###### Exercise:\n",
    "Finishe the initialize_parameters function below"
   ]
  },
  {
   "cell_type": "code",
   "execution_count": 151,
   "metadata": {},
   "outputs": [],
   "source": [
    "# Random innitialize the parameters\n",
    "\n",
    "def initialize_parameters(dim):\n",
    "    '''\n",
    "    Argument: dim -- size of the w vector\n",
    "    \n",
    "    Returns:\n",
    "    w -- initialized vector of shape (dim,1)\n",
    "    b -- initializaed scalar\n",
    "    '''\n",
    "    \n",
    "    w = np.random.randn(dim, 1)\n",
    "    b = np.random.randn()\n",
    "    \n",
    "    assert(w.shape == (dim,1))\n",
    "    assert(isinstance(b,float) or isinstance(b,int))\n",
    "    \n",
    "    return w,b"
   ]
  },
  {
   "cell_type": "code",
   "execution_count": 152,
   "metadata": {},
   "outputs": [
    {
     "name": "stdout",
     "output_type": "stream",
     "text": [
      "[[0.7794139 ]\n",
      " [0.15353149]\n",
      " [0.32496691]]\n",
      "**********\n",
      "-0.34173095309954854\n"
     ]
    }
   ],
   "source": [
    "w,b = initialize_parameters(3)\n",
    "print(w)\n",
    "print(\"*\"*10)\n",
    "print(b)"
   ]
  },
  {
   "cell_type": "markdown",
   "metadata": {},
   "source": [
    "#### 4.3-Forward and backward propagation"
   ]
  },
  {
   "cell_type": "markdown",
   "metadata": {},
   "source": [
    "###### Some mathematical expressions\n",
    "Forward Propagation:   \n",
    ". X    \n",
    ". A = $\\sigma(w^T*X+b) = (a^{(1)},a^{(2)},...,a^{(m)}$   \n",
    ". J = $-\\frac{1}{m} \\sum_{i=1}^{m}y^{(i)}log(a^{(i)}+(1-y^{(i)})log(1-a^{(i)})$       "
   ]
  },
  {
   "cell_type": "markdown",
   "metadata": {},
   "source": [
    "Some derivative: \n",
    "$$\\frac{\\partial{J}}{\\partial{w}} = \\frac{1}{m}X*(A-Y)^T$$   \n",
    "$$\\frac{\\partial{J}}{\\partial{b}} = \\frac{1}{m}\\sum_{i=1}^m(a^{(i)}-y^{(i)}) $$"
   ]
  },
  {
   "cell_type": "markdown",
   "metadata": {},
   "source": [
    "###### Exercise:\n",
    "Finish the function below:"
   ]
  },
  {
   "cell_type": "code",
   "execution_count": 270,
   "metadata": {},
   "outputs": [],
   "source": [
    "def propagate(w,b,X,Y):\n",
    "    '''\n",
    "    Implement the cost function and its gradient for the propagation\n",
    "    \n",
    "    Arguments:\n",
    "    w - weights:dim(n,1)\n",
    "    b - bias:scalar\n",
    "    X - data:dim(n,m),m表示样本数\n",
    "    Y - ground truth：dim(m,1)\n",
    "    A - dim(1,m)\n",
    "    '''\n",
    "    m = X.shape[1]\n",
    "    A = sigmoid(np.matmul(w.T,X)+b)  # (1,3)*(3,2)=(1,2)\n",
    "    A[A==1]=0.99    # 将A中值为1的元素替换为0.99，否则取对数的时候会出现对0取对数的错误\n",
    "    cost = -1. * np.sum((np.log(A)) * Y.T + np.log(1 - A) * ((1 - Y).T)) / m\n",
    "#     print(cost)\n",
    "    dw = np.matmul(X,(A-Y.T).T)/m\n",
    "    db = (np.sum(A-Y.T)/m)\n",
    "    \n",
    "#     print(db)\n",
    "    assert(dw.shape == w.shape)\n",
    "    assert(db.dtype == float)\n",
    "    cost = np.squeeze(cost)    # 压缩维数为1的维度\n",
    "#     print(cost)\n",
    "    assert(cost.shape == ())\n",
    "#     print(dw.shape)\n",
    "    grads = {'dw':dw,\n",
    "             'db':db}\n",
    "    return grads, cost\n",
    "# propagate(w,b,X,Y)"
   ]
  },
  {
   "cell_type": "markdown",
   "metadata": {},
   "source": [
    "##### 4.4 -Optimization"
   ]
  },
  {
   "cell_type": "markdown",
   "metadata": {},
   "source": [
    "###### Exercise:\n",
    "Minimizing the cost function using gradient descent.   \n",
    "$$\\theta = \\theta - \\alpha*d\\theta$$ where $\\alpha$ is the learning rate."
   ]
  },
  {
   "cell_type": "code",
   "execution_count": 358,
   "metadata": {},
   "outputs": [
    {
     "data": {
      "text/plain": [
       "(1347,)"
      ]
     },
     "execution_count": 358,
     "metadata": {},
     "output_type": "execute_result"
    }
   ],
   "source": [
    "y_train.shape"
   ]
  },
  {
   "cell_type": "code",
   "execution_count": 177,
   "metadata": {},
   "outputs": [
    {
     "name": "stdout",
     "output_type": "stream",
     "text": [
      "{'w': array([[ 0.43582156],\n",
      "       [-0.07007329],\n",
      "       [-0.3446313 ]]), 'b': -0.3424231924620317}\n",
      "[1.2745331432427462, 0.8323619914415219]\n"
     ]
    }
   ],
   "source": [
    "def optimize(w, b, X, Y, num_iterations, learning_rate, print_cost=False):\n",
    "    '''\n",
    "    This function optimize w and b by running a gradient descen algorithm\n",
    "    \n",
    "    Arguments:\n",
    "    w - weights, dim(m,1)\n",
    "    b - bias, scalar\n",
    "    X - data, dim(n,m)\n",
    "    Y - ground truth, dim(m,)    \n",
    "    num_iterations -- number of iterations of the optimization loop\n",
    "    learning_rate -- learning rate of the gradient descent update rule\n",
    "    print_cost -- True to print the loss every 100 steps\n",
    "    \n",
    "    Returns:\n",
    "    params - dictionary containing the weights w and bias b\n",
    "    grads -- dictionary containing the gradients of the weights and bias with respect to the cost function\n",
    "    costs -- list of all the costs computed during the optimization, this will be used to plot the learning curve.\n",
    "    \n",
    "    '''\n",
    "    \n",
    "    costs = []\n",
    "    \n",
    "    for i in range(num_iterations):\n",
    "        \n",
    "        grads, cost = propagate(w,b,X,Y)\n",
    "        \n",
    "        dw = grads['dw']\n",
    "        db = grads['db']\n",
    "        \n",
    "        w = w-learning_rate*dw\n",
    "        b = b-learning_rate*db\n",
    "        \n",
    "        if i % 100 == 0:\n",
    "            costs.append(cost)\n",
    "        if print_cost and i % 100 == 0:\n",
    "            print (\"Cost after iteration %i: %f\" %(i, cost))\n",
    "    \n",
    "    params = {\"w\":w,\n",
    "              \"b\":b}\n",
    "    \n",
    "    grads = {\"dw\":dw,\n",
    "             \"db\":db}\n",
    "    \n",
    "    return params, grads, costs\n",
    "params,grads, costs = optimize(w, b, X, Y, num_iterations=200, learning_rate=0.01, print_cost=False)\n",
    "print(params)\n",
    "print(costs)"
   ]
  },
  {
   "cell_type": "markdown",
   "metadata": {},
   "source": [
    "###### Exercise\n",
    "The previous function will output the learned w and b. We are able to use w and b to predict the labels for a dataset X. Implement the predict() function.    \n",
    "Two steps to finish this task:   \n",
    "1. Calculate $\\hat{Y} = A = \\sigma(w^T*X+b)$   \n",
    "2. Convert the entries of a into 0 (if activation <= 0.5) or 1 (if activation > 0.5), stores the predictions in a vector Y_prediction. If you wish, you can use an if/else statement in a for loop (though there is also a way to vectorize this)."
   ]
  },
  {
   "cell_type": "code",
   "execution_count": 136,
   "metadata": {
    "scrolled": true
   },
   "outputs": [
    {
     "data": {
      "text/plain": [
       "array([[1., 0.]])"
      ]
     },
     "execution_count": 136,
     "metadata": {},
     "output_type": "execute_result"
    }
   ],
   "source": [
    "def predict(w, b, X):\n",
    "    '''\n",
    "    Predict whether the label is 0 or 1 using learned logistic regression parameters (w, b)\n",
    "    \n",
    "    Arguments:\n",
    "    w -- weight, dim(m,1)\n",
    "    b -- bias, scalar\n",
    "    X -- data, dim(n,m)\n",
    "    \n",
    "    Returns:\n",
    "    Y_prediction -- a numpy array (vector) containing all predictions (0/1) for the examples in X, dim(1,m)\n",
    "    '''\n",
    "    m = X.shape[1]\n",
    "    Y_prediction = np.zeros((1,m))\n",
    "    w = w.reshape(X.shape[0],1)\n",
    "    \n",
    "    A = sigmoid(np.matmul(w.T,X)+b)    # dim(1,2)\n",
    "#     print(A)\n",
    "#     Y_prediction = np.array(list(map(lambda x:1 if x>0.5 else 0,A))).reshape(1,m)\n",
    "    for i in range(A.shape[1]):\n",
    "        if A[0][i]>0.5:\n",
    "            Y_prediction[0][i] = 1\n",
    "        else:\n",
    "            Y_prediction[0][i] = 0\n",
    "#     print(Y_prediction)\n",
    "    assert(Y_prediction.shape == (1,m))\n",
    "    \n",
    "    return Y_prediction\n",
    "predict(params[\"w\"], params[\"b\"], X)"
   ]
  },
  {
   "cell_type": "markdown",
   "metadata": {},
   "source": [
    "##### 5- Merge all functions into a model"
   ]
  },
  {
   "cell_type": "markdown",
   "metadata": {},
   "source": [
    "Congratulations !! You have finished all the necessary components for constructing a model. Now, Let's take the challenge to merge all the implemented function into one model."
   ]
  },
  {
   "cell_type": "code",
   "execution_count": 180,
   "metadata": {},
   "outputs": [],
   "source": [
    "import pysnooper"
   ]
  },
  {
   "cell_type": "code",
   "execution_count": 360,
   "metadata": {
    "scrolled": true
   },
   "outputs": [
    {
     "name": "stdout",
     "output_type": "stream",
     "text": [
      "Cost after iteration 0: 6.666861\n",
      "Cost after iteration 100: 2.538263\n",
      "Cost after iteration 200: 1.676308\n",
      "Cost after iteration 300: 1.321339\n",
      "Cost after iteration 400: 1.114872\n",
      "Cost after iteration 500: 0.977629\n",
      "Cost after iteration 600: 0.876518\n",
      "Cost after iteration 700: 0.797748\n",
      "Cost after iteration 800: 0.735581\n",
      "Cost after iteration 900: 0.685315\n",
      "Cost after iteration 1000: 0.643128\n",
      "Cost after iteration 1100: 0.606607\n",
      "Cost after iteration 1200: 0.574373\n",
      "Cost after iteration 1300: 0.545637\n",
      "Cost after iteration 1400: 0.519872\n",
      "Cost after iteration 1500: 0.496644\n",
      "Cost after iteration 1600: 0.475552\n",
      "Cost after iteration 1700: 0.456247\n",
      "Cost after iteration 1800: 0.438450\n",
      "Cost after iteration 1900: 0.421950\n",
      "parameter w:\n",
      "[[ 0.92554443]\n",
      " [-0.26089808]\n",
      " [ 0.37065747]\n",
      " [-0.05685357]\n",
      " [ 0.14023092]]\n",
      "**************************************************\n",
      "parameter b:\n",
      "-0.34801867968757877\n",
      "**************************************************\n",
      "training_accuracy:\n",
      "0.8938381588715665\n",
      "**************************************************\n",
      "test_accuracy:\n",
      "0.8844444444444445\n",
      "**************************************************\n",
      "final_cost:\n",
      "0.4219501460877228\n"
     ]
    }
   ],
   "source": [
    "# @pysnooper.snoop()\n",
    "def model(X_train, Y_train, X_test, Y_test, num_iterations, learning_rate,print_cost):\n",
    "    \"\"\"\n",
    "    Build the logistic regression model by calling all the functions you have implemented.\n",
    "    Arguments:\n",
    "    X_train - training set, dim(m,n)\n",
    "    Y_train - training label, dim(m,)\n",
    "    X_test - test set\n",
    "    Y_test - test label\n",
    "    num_iteration - hyperparameter representing the number of iterations to optimize the parameters\n",
    "    learning_rate -- hyperparameter representing the learning rate used in the update rule of optimize()\n",
    "    print_cost -- Set to true to print the cost every 100 iterations\n",
    "    \n",
    "    Returns:\n",
    "    d - dictionary should contain following information w,b,training_accuracy, test_accuracy,cost\n",
    "    eg: d = {\"w\":w,\n",
    "             \"b\":b,\n",
    "             \"training_accuracy\": traing_accuracy,\n",
    "             \"test_accuracy\":test_accuracy,\n",
    "             \"cost\":cost}\n",
    "    \"\"\"\n",
    "    \n",
    "    train_m = X_train.shape[0]\n",
    "    test_m = X_test.shape[0]\n",
    "    # 0. 初始化参数容器d\n",
    "    d = {}\n",
    "    \n",
    "    # 1. 初始化w和b\n",
    "    w,b = initialize_parameters(64)\n",
    "    \n",
    "    # 2. 前向传播+反向传播进行优化，得到最优的参数params(w和b), grads, costs\n",
    "    params, grads, costs = optimize(w, b, X_train.T, Y_train, num_iterations=num_iterations, learning_rate=learning_rate, print_cost=print_cost)\n",
    "#     print(costs)\n",
    "    # 3. 利用最优参数分别对训练集和测试集进行预测train_Y_prediction和test_Y_prediction\n",
    "    train_Y_prediction = predict(params[\"w\"], params[\"b\"], X_train.T)\n",
    "    test_Y_prediction = predict(params[\"w\"], params[\"b\"], X_test.T)\n",
    "#     print(train_Y_prediction.shape)\n",
    "    \n",
    "    # 4. 计算训练集准确率和测试集准确率\n",
    "    train_accuracy = (np.sum(Y_train==train_Y_prediction, axis=1)/train_m)[0]\n",
    "    test_accuracy = (np.sum(Y_test==test_Y_prediction, axis=1)/test_m)[0]\n",
    "    \n",
    "    d[\"w\"] = params[\"w\"]\n",
    "    d[\"b\"] = params[\"b\"]\n",
    "    d[\"training_accuracy\"] = train_accuracy\n",
    "    d[\"test_accuracy\"] = test_accuracy\n",
    "    d[\"cost\"] = costs[-1]\n",
    "    return d,costs\n",
    "\n",
    "if __name__==\"__main__\":\n",
    "    num_iterations=2000\n",
    "    learning_rate = 1e-2\n",
    "    print_cost=True\n",
    "    d,costs = model(X_train,y_train,X_test,y_test,num_iterations=num_iterations, learning_rate=learning_rate,print_cost=print_cost)\n",
    "    print(\"parameter w:\")\n",
    "    print(d[\"w\"][:5])\n",
    "    print(\"*\"*50)\n",
    "    print(\"parameter b:\")\n",
    "    print(d[\"b\"])\n",
    "    print(\"*\"*50)\n",
    "    print(\"training_accuracy:\")\n",
    "    print(d[\"training_accuracy\"])\n",
    "    print(\"*\"*50)\n",
    "    print(\"test_accuracy:\")\n",
    "    print(d[\"test_accuracy\"])\n",
    "    print(\"*\"*50)\n",
    "    print(\"final_cost:\")\n",
    "    print(d[\"cost\"])"
   ]
  },
  {
   "cell_type": "code",
   "execution_count": 356,
   "metadata": {},
   "outputs": [],
   "source": [
    "import matplotlib.pyplot as plt"
   ]
  },
  {
   "cell_type": "code",
   "execution_count": 357,
   "metadata": {},
   "outputs": [
    {
     "data": {
      "image/png": "[encoded data removed]",
      "text/plain": [
       "<Figure size 432x288 with 1 Axes>"
      ]
     },
     "metadata": {},
     "output_type": "display_data"
    }
   ],
   "source": [
    "plt.plot(costs, label=\"cost\")\n",
    "plt.legend()\n",
    "plt.show()"
   ]
  },
  {
   "cell_type": "markdown",
   "metadata": {},
   "source": [
    "### 4.选做题"
   ]
  },
  {
   "cell_type": "markdown",
   "metadata": {},
   "source": [
    "Congratulations on building your first logistic regression model. It is your time to analyze it further."
   ]
  },
  {
   "cell_type": "markdown",
   "metadata": {},
   "source": [
    "##### 4.1 Observe the effect of learning rate on the leraning process.   \n",
    "Hits: plot the learning curve with different learning rate"
   ]
  },
  {
   "cell_type": "code",
   "execution_count": 347,
   "metadata": {
    "scrolled": true
   },
   "outputs": [
    {
     "data": {
      "image/png": "[encoded data removed]",
      "text/plain": [
       "<Figure size 432x288 with 1 Axes>"
      ]
     },
     "metadata": {},
     "output_type": "display_data"
    }
   ],
   "source": [
    "class LearningCurve(object):\n",
    "    def get_train_and_test_accuracies(self, X_train, Y_train, X_test, Y_test, num_iterations, learning_rate, print_cost=True):\n",
    "        \"\"\"\n",
    "        DocString:\n",
    "            计算使用不同比例训练样本得到模型的训练集和验证集准确率\n",
    "        ------\n",
    "        parameters:\n",
    "            w: (n,1),n表示特征数, 训练好的最优参数\n",
    "            b: float, 训练好的最优参数\n",
    "            X_train: (m,n)\n",
    "            y_train: (m,)\n",
    "        ------\n",
    "        Return:\n",
    "            train_precent_li: list\n",
    "            train_accuracy_li: list\n",
    "            test_accuracy_li: list\n",
    "        \"\"\"\n",
    "        train_m = X_train.shape[0]\n",
    "        test_m = X_test.shape[0]\n",
    "        train_percent_li = [item/10.0 for item in list(range(1,11,1))]\n",
    "        train_accracy_li = []\n",
    "        test_accracy_li = []\n",
    "        \n",
    "        for percent in train_percent_li:\n",
    "            # 0. 利用训练子集训练模型，得到参数w和b\n",
    "            w,b = initialize_parameters(64)\n",
    "\n",
    "            params, grads, costs = optimize(w, b, X_train[:int(percent*train_m)].T, Y_train[:int(percent*train_m)], num_iterations=num_iterations, learning_rate=learning_rate, print_cost=print_cost)\n",
    "            \n",
    "            # 1.利用当前参数w和b对子训练集和测试集进行预测\n",
    "            train_Y_prediction = predict(params[\"w\"], params[\"b\"],  X_train[:int(percent*train_m)].T)\n",
    "            test_Y_prediction = predict(params[\"w\"], params[\"b\"], X_test.T)\n",
    "            \n",
    "            # 2. 计算当前迭代的准确率\n",
    "            train_accuracy = (np.sum(Y_train[:int(percent*train_m)]==train_Y_prediction, axis=1)/float(percent*train_m))[0]\n",
    "            test_accuracy = (np.sum(Y_test==test_Y_prediction, axis=1)/float(test_m))[0]\n",
    "            train_accracy_li.append(train_accuracy)\n",
    "            test_accracy_li.append(test_accuracy)\n",
    "        return train_percent_li, train_accracy_li, test_accracy_li\n",
    "    \n",
    "    def plot_learning_curve(self,train_percent_li, train_accracy_li, test_accracy_li):\n",
    "        \"\"\"绘制学习曲线\"\"\"\n",
    "        plt.plot(train_percent_li, train_accracy_li, label=\"train\")\n",
    "        plt.plot(train_percent_li, test_accracy_li, label=\"validation\")\n",
    "        plt.title(\"Learning Curve\")\n",
    "        plt.legend()\n",
    "        plt.show()\n",
    "        \n",
    "if __name__==\"__main__\":\n",
    "    num_iterations=4000\n",
    "    learning_rate = 1e-2    # 学习率设置为0.01\n",
    "    print_cost=False\n",
    "    \n",
    "    lc = LearningCurve()\n",
    "    train_percent_li, train_accracy_li, test_accracy_li = lc.get_train_and_test_accuracies(X_train, y_train, X_test, y_test, num_iterations=num_iterations, learning_rate=learning_rate,print_cost=print_cost)\n",
    "    lc.plot_learning_curve(train_percent_li, train_accracy_li, test_accracy_li)"
   ]
  },
  {
   "cell_type": "code",
   "execution_count": 348,
   "metadata": {},
   "outputs": [
    {
     "data": {
      "image/png": "[encoded data removed]",
      "text/plain": [
       "<Figure size 432x288 with 1 Axes>"
      ]
     },
     "metadata": {},
     "output_type": "display_data"
    }
   ],
   "source": [
    "learning_rate = 0.1    # 学习率设置为0.1\n",
    "\n",
    "lc = LearningCurve()\n",
    "train_percent_li, train_accracy_li, test_accracy_li = lc.get_train_and_test_accuracies(X_train, y_train, X_test, y_test, num_iterations=num_iterations, learning_rate=learning_rate,print_cost=print_cost)\n",
    "lc.plot_learning_curve(train_percent_li, train_accracy_li, test_accracy_li)"
   ]
  },
  {
   "cell_type": "code",
   "execution_count": 351,
   "metadata": {},
   "outputs": [
    {
     "data": {
      "image/png": "[encoded data removed]",
      "text/plain": [
       "<Figure size 432x288 with 1 Axes>"
      ]
     },
     "metadata": {},
     "output_type": "display_data"
    }
   ],
   "source": [
    "# TODO：把这三个图绘制在一张图上\n",
    "learning_rate = 0.00001    # # 学习率设置为0.00001\n",
    "\n",
    "lc = LearningCurve()\n",
    "train_percent_li, train_accracy_li, test_accracy_li = lc.get_train_and_test_accuracies(X_train, y_train, X_test, y_test, num_iterations=num_iterations, learning_rate=learning_rate,print_cost=print_cost)\n",
    "lc.plot_learning_curve(train_percent_li, train_accracy_li, test_accracy_li)"
   ]
  },
  {
   "cell_type": "markdown",
   "metadata": {},
   "source": [
    "* Finding： 学习率太大也不好，太小也不好，0.01是比较合理的"
   ]
  },
  {
   "cell_type": "markdown",
   "metadata": {},
   "source": [
    "##### 4.2 Observe the effect of iteration_num on the test accuracy."
   ]
  },
  {
   "cell_type": "code",
   "execution_count": 352,
   "metadata": {},
   "outputs": [
    {
     "name": "stdout",
     "output_type": "stream",
     "text": [
      "Cost after iteration 0: 19.233253\n",
      "Cost after iteration 100: 3.407584\n",
      "Cost after iteration 200: 1.694786\n",
      "Cost after iteration 300: 1.219893\n",
      "Cost after iteration 400: 0.961254\n",
      "Cost after iteration 500: 0.787609\n",
      "Cost after iteration 600: 0.668732\n",
      "Cost after iteration 700: 0.585755\n",
      "Cost after iteration 800: 0.525205\n",
      "Cost after iteration 900: 0.478917\n",
      "Cost after iteration 1000: 0.442172\n",
      "Cost after iteration 1100: 0.412289\n",
      "Cost after iteration 1200: 0.387590\n",
      "Cost after iteration 1300: 0.366957\n",
      "Cost after iteration 1400: 0.349626\n",
      "Cost after iteration 1500: 0.335042\n",
      "Cost after iteration 1600: 0.322781\n",
      "Cost after iteration 1700: 0.312491\n",
      "Cost after iteration 1800: 0.303876\n",
      "Cost after iteration 1900: 0.296680\n"
     ]
    },
    {
     "data": {
      "image/png": "[encoded data removed]",
      "text/plain": [
       "<Figure size 432x288 with 1 Axes>"
      ]
     },
     "metadata": {},
     "output_type": "display_data"
    }
   ],
   "source": [
    "class AccuracyCurve(object):\n",
    "    def __init__(self):\n",
    "        pass\n",
    "    def get_train_and_test_accuracies(self, w, b, X_train, Y_train, X_test, Y_test, num_iterations=200, learning_rate=0.01, print_cost=False):\n",
    "        \"\"\"\n",
    "        Docstring:\n",
    "        计算每轮迭代的训练集准确率和测试集准确率\n",
    "        ------\n",
    "        Return：\n",
    "        train_accracy_li: list,每轮迭代的训练集准确率\n",
    "        test_accracy_li: list,每轮迭代的测试集准确率\n",
    "        ------\n",
    "        Example:\n",
    "            ac = AccuracyCurve()\n",
    "            train_accracy_li, test_accracy_li = ac.get_train_and_test_accuracies(w, b, X_train, y_train, X_test, y_test, num_iterations=num_iterations, learning_rate=learning_rate, print_cost=print_cost)\n",
    "            ac.plot_learning_curve(train_accracy_li, test_accracy_li)\n",
    "        \"\"\"\n",
    "        train_accracy_li = []\n",
    "        test_accracy_li = []\n",
    "        costs = []\n",
    "        train_m = X_train.shape[0]\n",
    "        test_m = X_test.shape[0]\n",
    "        for i in range(num_iterations):\n",
    "            # 1.利用当前参数w和b对训练集和测试集进行预测\n",
    "            train_Y_prediction = predict(w, b, X_train.T)\n",
    "            test_Y_prediction = predict(w, b, X_test.T)\n",
    "            \n",
    "            # 2. 计算当前迭代的准确率\n",
    "            train_accuracy = (np.sum(Y_train==train_Y_prediction, axis=1)/train_m)[0]\n",
    "            test_accuracy = (np.sum(Y_test==test_Y_prediction, axis=1)/test_m)[0]\n",
    "            train_accracy_li.append(train_accuracy)\n",
    "            test_accracy_li.append(test_accuracy)\n",
    "            \n",
    "            # 3. 计算参数的梯度和损失\n",
    "            grads, cost = propagate(w,b,X_train.T,Y_train)\n",
    "            costs.append(cost)\n",
    "            \n",
    "            dw = grads['dw']\n",
    "            db = grads['db']\n",
    "            \n",
    "            # 4. 更新参数\n",
    "            w = w-learning_rate*dw\n",
    "            b = b-learning_rate*db\n",
    "            \n",
    "            if print_cost and i % 100 == 0:\n",
    "                print (\"Cost after iteration %i: %f\" %(i, cost))\n",
    "                \n",
    "        return train_accracy_li,test_accracy_li\n",
    "\n",
    "    def plot_learning_curve(self, train_accracy_li, test_accracy_li):\n",
    "        plt.plot(list(range(num_iterations)), train_accracy_li, label=\"train\")\n",
    "        plt.plot(list(range(num_iterations)), test_accracy_li, label=\"validation\")\n",
    "        plt.legend()\n",
    "        plt.show()\n",
    "        \n",
    "if __name__==\"__main__\":\n",
    "    # 初始化w和b\n",
    "    w,b = initialize_parameters(64)\n",
    "    # 初始化超参数\n",
    "    num_iterations=2000\n",
    "    learning_rate = 1e-2\n",
    "    print_cost=True\n",
    "    \n",
    "    ac = AccuracyCurve()\n",
    "    train_accracy_li, test_accracy_li = ac.get_train_and_test_accuracies(w, b, X_train, y_train, X_test, y_test, num_iterations=num_iterations, learning_rate=learning_rate, print_cost=print_cost)\n",
    "    ac.plot_learning_curve(train_accracy_li, test_accracy_li)"
   ]
  },
  {
   "cell_type": "markdown",
   "metadata": {},
   "source": [
    "# Challenge ! ! !\n",
    "\n",
    "The original data have images labeled 0,1,2,3,4,5,6,7,8,9. In our logistic model, we only detect if the digit in the image is larger or smaller than 5. Now, Let's go for a more challenging problem. Try to use softmax function to build a model to recognize which digits (0,1,2,3,4,5,6,7,8,9) is in the image."
   ]
  },
  {
   "cell_type": "markdown",
   "metadata": {},
   "source": [
    "# Congratulations ! You have completed assigment 4. "
   ]
  }
 ],
 "metadata": {
  "kernelspec": {
   "display_name": "Python 3",
   "language": "python",
   "name": "python3"
  },
  "language_info": {
   "codemirror_mode": {
    "name": "ipython",
    "version": 3
   },
   "file_extension": ".py",
   "mimetype": "text/x-python",
   "name": "python",
   "nbconvert_exporter": "python",
   "pygments_lexer": "ipython3",
   "version": "3.6.5"
  }
 },
 "nbformat": 4,
 "nbformat_minor": 2
}
